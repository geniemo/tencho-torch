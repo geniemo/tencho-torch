{
 "cells": [
  {
   "cell_type": "code",
   "execution_count": 1,
   "id": "0562c353-e640-43d0-a319-b88497484210",
   "metadata": {},
   "outputs": [],
   "source": [
    "import numpy as np\n",
    "import pandas as pd"
   ]
  },
  {
   "cell_type": "code",
   "execution_count": 2,
   "id": "ea158bf5-5665-4a0c-b1aa-0cff5c548c03",
   "metadata": {},
   "outputs": [
    {
     "data": {
      "text/html": [
       "<div>\n",
       "<style scoped>\n",
       "    .dataframe tbody tr th:only-of-type {\n",
       "        vertical-align: middle;\n",
       "    }\n",
       "\n",
       "    .dataframe tbody tr th {\n",
       "        vertical-align: top;\n",
       "    }\n",
       "\n",
       "    .dataframe thead th {\n",
       "        text-align: right;\n",
       "    }\n",
       "</style>\n",
       "<table border=\"1\" class=\"dataframe\">\n",
       "  <thead>\n",
       "    <tr style=\"text-align: right;\">\n",
       "      <th></th>\n",
       "      <th>Date</th>\n",
       "      <th>Open</th>\n",
       "      <th>High</th>\n",
       "      <th>Low</th>\n",
       "      <th>Volume</th>\n",
       "      <th>Close</th>\n",
       "    </tr>\n",
       "  </thead>\n",
       "  <tbody>\n",
       "    <tr>\n",
       "      <th>0</th>\n",
       "      <td>2015-12-16</td>\n",
       "      <td>120</td>\n",
       "      <td>123</td>\n",
       "      <td>118</td>\n",
       "      <td>13181000</td>\n",
       "      <td>123</td>\n",
       "    </tr>\n",
       "    <tr>\n",
       "      <th>1</th>\n",
       "      <td>2015-12-17</td>\n",
       "      <td>124</td>\n",
       "      <td>126</td>\n",
       "      <td>122</td>\n",
       "      <td>17284900</td>\n",
       "      <td>123</td>\n",
       "    </tr>\n",
       "    <tr>\n",
       "      <th>2</th>\n",
       "      <td>2015-12-18</td>\n",
       "      <td>121</td>\n",
       "      <td>122</td>\n",
       "      <td>118</td>\n",
       "      <td>17948100</td>\n",
       "      <td>118</td>\n",
       "    </tr>\n",
       "    <tr>\n",
       "      <th>3</th>\n",
       "      <td>2015-12-21</td>\n",
       "      <td>120</td>\n",
       "      <td>120</td>\n",
       "      <td>116</td>\n",
       "      <td>11670000</td>\n",
       "      <td>117</td>\n",
       "    </tr>\n",
       "    <tr>\n",
       "      <th>4</th>\n",
       "      <td>2015-12-22</td>\n",
       "      <td>117</td>\n",
       "      <td>117</td>\n",
       "      <td>115</td>\n",
       "      <td>9689000</td>\n",
       "      <td>116</td>\n",
       "    </tr>\n",
       "  </tbody>\n",
       "</table>\n",
       "</div>"
      ],
      "text/plain": [
       "         Date  Open  High  Low    Volume  Close\n",
       "0  2015-12-16   120   123  118  13181000    123\n",
       "1  2015-12-17   124   126  122  17284900    123\n",
       "2  2015-12-18   121   122  118  17948100    118\n",
       "3  2015-12-21   120   120  116  11670000    117\n",
       "4  2015-12-22   117   117  115   9689000    116"
      ]
     },
     "execution_count": 2,
     "metadata": {},
     "output_type": "execute_result"
    }
   ],
   "source": [
    "data = pd.read_csv(\"../input/netflix-stock-prediction/train.csv\")\n",
    "data.head()"
   ]
  },
  {
   "cell_type": "code",
   "execution_count": 3,
   "id": "db6e79a1-eced-4209-bd4d-e0f67b0effdd",
   "metadata": {},
   "outputs": [
    {
     "name": "stdout",
     "output_type": "stream",
     "text": [
      "<class 'pandas.core.frame.DataFrame'>\n",
      "RangeIndex: 967 entries, 0 to 966\n",
      "Data columns (total 6 columns):\n",
      " #   Column  Non-Null Count  Dtype \n",
      "---  ------  --------------  ----- \n",
      " 0   Date    967 non-null    object\n",
      " 1   Open    967 non-null    int64 \n",
      " 2   High    967 non-null    int64 \n",
      " 3   Low     967 non-null    int64 \n",
      " 4   Volume  967 non-null    int64 \n",
      " 5   Close   967 non-null    int64 \n",
      "dtypes: int64(5), object(1)\n",
      "memory usage: 45.5+ KB\n"
     ]
    }
   ],
   "source": [
    "data.info()"
   ]
  },
  {
   "cell_type": "code",
   "execution_count": 4,
   "id": "7b8184df-4e5a-4859-b1ec-21532837b7d6",
   "metadata": {},
   "outputs": [],
   "source": [
    "import matplotlib.pyplot as plt"
   ]
  },
  {
   "cell_type": "code",
   "execution_count": 5,
   "id": "f9af33a2-bff5-4a5c-89d3-4c709a77b012",
   "metadata": {},
   "outputs": [
    {
     "data": {
      "image/png": "[encoded data removed]",
      "text/plain": [
       "<Figure size 640x480 with 4 Axes>"
      ]
     },
     "metadata": {},
     "output_type": "display_data"
    }
   ],
   "source": [
    "data_used = data.iloc[:, 1:4]\n",
    "data_used[\"Close\"] = data[\"Close\"]\n",
    "hist = data_used.hist()\n",
    "plt.show()"
   ]
  },
  {
   "cell_type": "markdown",
   "id": "8000b2d8-f5cf-4d42-9c32-359bc6c72ee9",
   "metadata": {},
   "source": [
    "# 학습용 데이터 만들기"
   ]
  },
  {
   "cell_type": "code",
   "execution_count": 6,
   "id": "a811f98b-61a7-47c2-a3c2-61b31aed7e34",
   "metadata": {},
   "outputs": [],
   "source": [
    "from torch.utils.data.dataset import Dataset"
   ]
  },
  {
   "cell_type": "code",
   "execution_count": 7,
   "id": "2b69e16d-c2c8-433c-8f62-e5da2113df2b",
   "metadata": {},
   "outputs": [],
   "source": [
    "class Netflix(Dataset):\n",
    "    def __init__(self):\n",
    "        self.csv = pd.read_csv(\"../input/netflix-stock-prediction/train.csv\")\n",
    "\n",
    "        self.data = self.csv.iloc[:, 1:4].values\n",
    "        self.data = self.data / np.max(self.data)\n",
    "\n",
    "        self.label = data[\"Close\"].values\n",
    "        self.label = self.label / np.max(self.label)\n",
    "\n",
    "    def __len__(self):\n",
    "        # 사용 가능한 배치 개수\n",
    "        return len(self.data) - 30\n",
    "\n",
    "    def __getitem__(self, i):\n",
    "        data = self.data[i : i + 30]\n",
    "        label = self.label[i + 30]\n",
    "\n",
    "        return data, label"
   ]
  },
  {
   "cell_type": "markdown",
   "id": "2e1169e4-3cbd-4284-9509-164617497d19",
   "metadata": {},
   "source": [
    "# RNN 모델 정의하기"
   ]
  },
  {
   "cell_type": "code",
   "execution_count": 8,
   "id": "e61171ca-5c02-4332-a538-d373e4d81351",
   "metadata": {},
   "outputs": [],
   "source": [
    "import torch\n",
    "import torch.nn as nn"
   ]
  },
  {
   "cell_type": "code",
   "execution_count": 9,
   "id": "41edc9f4-1caf-493e-8820-21951bc5f0ff",
   "metadata": {},
   "outputs": [],
   "source": [
    "class RNN(nn.Module):\n",
    "    def __init__(self):\n",
    "        super(RNN, self).__init__()\n",
    "\n",
    "        self.rnn = nn.RNN(input_size=3, hidden_size=8, num_layers=5, batch_first=True)\n",
    "\n",
    "        self.fc1 = nn.Linear(in_features=240, out_features=64)\n",
    "        self.fc2 = nn.Linear(in_features=64, out_features=1)\n",
    "\n",
    "        self.relu = nn.ReLU()\n",
    "\n",
    "    def forward(self, x, h0):\n",
    "        # 마지막 RNN 층의 은닉 상태, 모든 RNN 층의 은닉 상태\n",
    "        x, hn = self.rnn(x, h0)\n",
    "\n",
    "        x = torch.reshape(x, (x.shape[0], -1))\n",
    "\n",
    "        x = self.fc1(x)\n",
    "        x = self.relu(x)\n",
    "        x = self.fc2(x)\n",
    "\n",
    "        x = torch.flatten(x)\n",
    "\n",
    "        return x"
   ]
  },
  {
   "cell_type": "markdown",
   "id": "7793acae-35e1-4322-84c6-2bb8b373a697",
   "metadata": {},
   "source": [
    "# 모델 학습하기"
   ]
  },
  {
   "cell_type": "code",
   "execution_count": 10,
   "id": "0a02a9a1-22c3-4131-b774-d6420aad6110",
   "metadata": {},
   "outputs": [],
   "source": [
    "import tqdm\n",
    "from torch.optim.adam import Adam\n",
    "from torch.utils.data.dataloader import DataLoader"
   ]
  },
  {
   "cell_type": "code",
   "execution_count": 11,
   "id": "57f08d35-2bfb-4d55-b145-3ab71d65cc65",
   "metadata": {},
   "outputs": [
    {
     "data": {
      "text/plain": [
       "'cuda'"
      ]
     },
     "execution_count": 11,
     "metadata": {},
     "output_type": "execute_result"
    }
   ],
   "source": [
    "device = \"cuda\" if torch.cuda.is_available() else \"cpu\"\n",
    "device"
   ]
  },
  {
   "cell_type": "code",
   "execution_count": 12,
   "id": "0d876e82-38ea-4689-83f5-da28a4dc80b9",
   "metadata": {},
   "outputs": [],
   "source": [
    "model = RNN().to(device)"
   ]
  },
  {
   "cell_type": "code",
   "execution_count": 13,
   "id": "ba1b813c-1b5c-4197-aa2d-314b5dd6db07",
   "metadata": {},
   "outputs": [],
   "source": [
    "dataset = Netflix()\n",
    "loader = DataLoader(dataset, batch_size=32)"
   ]
  },
  {
   "cell_type": "code",
   "execution_count": 14,
   "id": "2193dc00-733d-4b3d-ab53-601b3d132296",
   "metadata": {},
   "outputs": [],
   "source": [
    "optim = Adam(params=model.parameters(), lr=0.0001)"
   ]
  },
  {
   "cell_type": "code",
   "execution_count": 16,
   "id": "b06e25ef-60f2-4ee4-a8b0-100375e0c42c",
   "metadata": {
    "scrolled": true
   },
   "outputs": [
    {
     "name": "stderr",
     "output_type": "stream",
     "text": [
      "epoch: 0 loss: 0.00032533472403883934: 100%|███████████████████████████████████████████| 30/30 [00:00<00:00, 72.01it/s]\n",
      "epoch: 1 loss: 0.009275567717850208: 100%|████████████████████████████████████████████| 30/30 [00:00<00:00, 162.26it/s]\n",
      "epoch: 2 loss: 0.012176744639873505: 100%|████████████████████████████████████████████| 30/30 [00:00<00:00, 171.40it/s]\n",
      "epoch: 3 loss: 0.010906394571065903: 100%|████████████████████████████████████████████| 30/30 [00:00<00:00, 167.84it/s]\n",
      "epoch: 4 loss: 0.010864976793527603: 100%|████████████████████████████████████████████| 30/30 [00:00<00:00, 173.79it/s]\n",
      "epoch: 5 loss: 0.0108947167173028: 100%|██████████████████████████████████████████████| 30/30 [00:00<00:00, 181.72it/s]\n",
      "epoch: 6 loss: 0.01086435653269291: 100%|█████████████████████████████████████████████| 30/30 [00:00<00:00, 195.38it/s]\n",
      "epoch: 7 loss: 0.010834059678018093: 100%|████████████████████████████████████████████| 30/30 [00:00<00:00, 201.48it/s]\n",
      "epoch: 8 loss: 0.010803762823343277: 100%|████████████████████████████████████████████| 30/30 [00:00<00:00, 206.46it/s]\n",
      "epoch: 9 loss: 0.010769634507596493: 100%|████████████████████████████████████████████| 30/30 [00:00<00:00, 208.15it/s]\n",
      "epoch: 10 loss: 0.010730198584496975: 100%|███████████████████████████████████████████| 30/30 [00:00<00:00, 201.35it/s]\n",
      "epoch: 11 loss: 0.010683472268283367: 100%|███████████████████████████████████████████| 30/30 [00:00<00:00, 171.85it/s]\n",
      "epoch: 12 loss: 0.010626817122101784: 100%|███████████████████████████████████████████| 30/30 [00:00<00:00, 210.66it/s]\n",
      "epoch: 13 loss: 0.010556911118328571: 100%|███████████████████████████████████████████| 30/30 [00:00<00:00, 192.06it/s]\n",
      "epoch: 14 loss: 0.010469594039022923: 100%|███████████████████████████████████████████| 30/30 [00:00<00:00, 211.47it/s]\n",
      "epoch: 15 loss: 0.010359310545027256: 100%|███████████████████████████████████████████| 30/30 [00:00<00:00, 213.50it/s]\n",
      "epoch: 16 loss: 0.010218501091003418: 100%|███████████████████████████████████████████| 30/30 [00:00<00:00, 195.56it/s]\n",
      "epoch: 17 loss: 0.010036570951342583: 100%|███████████████████████████████████████████| 30/30 [00:00<00:00, 205.32it/s]\n",
      "epoch: 18 loss: 0.009798294864594936: 100%|███████████████████████████████████████████| 30/30 [00:00<00:00, 199.73it/s]\n",
      "epoch: 19 loss: 0.009481283836066723: 100%|███████████████████████████████████████████| 30/30 [00:00<00:00, 196.60it/s]\n",
      "epoch: 20 loss: 0.009052306413650513: 100%|███████████████████████████████████████████| 30/30 [00:00<00:00, 168.00it/s]\n",
      "epoch: 21 loss: 0.008461308665573597: 100%|███████████████████████████████████████████| 30/30 [00:00<00:00, 195.07it/s]\n",
      "epoch: 22 loss: 0.007633758243173361: 100%|███████████████████████████████████████████| 30/30 [00:00<00:00, 192.94it/s]\n",
      "epoch: 23 loss: 0.0064663877710700035: 100%|██████████████████████████████████████████| 30/30 [00:00<00:00, 203.07it/s]\n",
      "epoch: 24 loss: 0.004948346875607967: 100%|███████████████████████████████████████████| 30/30 [00:00<00:00, 183.20it/s]\n",
      "epoch: 25 loss: 0.0029123511631041765: 100%|██████████████████████████████████████████| 30/30 [00:00<00:00, 182.01it/s]\n",
      "epoch: 26 loss: 0.0006579691544175148: 100%|██████████████████████████████████████████| 30/30 [00:00<00:00, 179.86it/s]\n",
      "epoch: 27 loss: 0.000632005394436419: 100%|███████████████████████████████████████████| 30/30 [00:00<00:00, 198.02it/s]\n",
      "epoch: 28 loss: 0.005371056497097015: 100%|███████████████████████████████████████████| 30/30 [00:00<00:00, 183.56it/s]\n",
      "epoch: 29 loss: 0.004469780717045069: 100%|███████████████████████████████████████████| 30/30 [00:00<00:00, 208.87it/s]\n",
      "epoch: 30 loss: 0.004702425096184015: 100%|███████████████████████████████████████████| 30/30 [00:00<00:00, 211.22it/s]\n",
      "epoch: 31 loss: 0.004200586583465338: 100%|███████████████████████████████████████████| 30/30 [00:00<00:00, 212.70it/s]\n",
      "epoch: 32 loss: 0.004186831880360842: 100%|███████████████████████████████████████████| 30/30 [00:00<00:00, 201.49it/s]\n",
      "epoch: 33 loss: 0.0040573435835540295: 100%|██████████████████████████████████████████| 30/30 [00:00<00:00, 202.28it/s]\n",
      "epoch: 34 loss: 0.0039513022638857365: 100%|██████████████████████████████████████████| 30/30 [00:00<00:00, 191.94it/s]\n",
      "epoch: 35 loss: 0.003908919636160135: 100%|███████████████████████████████████████████| 30/30 [00:00<00:00, 204.40it/s]\n",
      "epoch: 36 loss: 0.0038539108354598284: 100%|██████████████████████████████████████████| 30/30 [00:00<00:00, 181.39it/s]\n",
      "epoch: 37 loss: 0.0038109624292701483: 100%|██████████████████████████████████████████| 30/30 [00:00<00:00, 201.26it/s]\n",
      "epoch: 38 loss: 0.0037717893719673157: 100%|██████████████████████████████████████████| 30/30 [00:00<00:00, 188.73it/s]\n",
      "epoch: 39 loss: 0.003737835446372628: 100%|███████████████████████████████████████████| 30/30 [00:00<00:00, 195.21it/s]\n",
      "epoch: 40 loss: 0.003718940308317542: 100%|███████████████████████████████████████████| 30/30 [00:00<00:00, 197.39it/s]\n",
      "epoch: 41 loss: 0.003687333781272173: 100%|███████████████████████████████████████████| 30/30 [00:00<00:00, 204.97it/s]\n",
      "epoch: 42 loss: 0.0036696051247417927: 100%|██████████████████████████████████████████| 30/30 [00:00<00:00, 162.73it/s]\n",
      "epoch: 43 loss: 0.003643352072685957: 100%|███████████████████████████████████████████| 30/30 [00:00<00:00, 186.31it/s]\n",
      "epoch: 44 loss: 0.0036149690859019756: 100%|██████████████████████████████████████████| 30/30 [00:00<00:00, 218.31it/s]\n",
      "epoch: 45 loss: 0.0035854163579642773: 100%|██████████████████████████████████████████| 30/30 [00:00<00:00, 212.57it/s]\n",
      "epoch: 46 loss: 0.003568678628653288: 100%|███████████████████████████████████████████| 30/30 [00:00<00:00, 191.79it/s]\n",
      "epoch: 47 loss: 0.0035458041820675135: 100%|██████████████████████████████████████████| 30/30 [00:00<00:00, 189.29it/s]\n",
      "epoch: 48 loss: 0.0035288892686367035: 100%|██████████████████████████████████████████| 30/30 [00:00<00:00, 179.54it/s]\n",
      "epoch: 49 loss: 0.0035045258700847626: 100%|██████████████████████████████████████████| 30/30 [00:00<00:00, 183.30it/s]\n",
      "epoch: 50 loss: 0.0034761640708893538: 100%|██████████████████████████████████████████| 30/30 [00:00<00:00, 183.15it/s]\n",
      "epoch: 51 loss: 0.0034524882212281227: 100%|██████████████████████████████████████████| 30/30 [00:00<00:00, 185.78it/s]\n",
      "epoch: 52 loss: 0.0034350515343248844: 100%|██████████████████████████████████████████| 30/30 [00:00<00:00, 206.76it/s]\n",
      "epoch: 53 loss: 0.0034128581173717976: 100%|██████████████████████████████████████████| 30/30 [00:00<00:00, 175.42it/s]\n",
      "epoch: 54 loss: 0.00339877069927752: 100%|████████████████████████████████████████████| 30/30 [00:00<00:00, 156.96it/s]\n",
      "epoch: 55 loss: 0.0033857221715152264: 100%|██████████████████████████████████████████| 30/30 [00:00<00:00, 169.79it/s]\n",
      "epoch: 56 loss: 0.003362317569553852: 100%|███████████████████████████████████████████| 30/30 [00:00<00:00, 199.37it/s]\n",
      "epoch: 57 loss: 0.0033528227359056473: 100%|██████████████████████████████████████████| 30/30 [00:00<00:00, 191.82it/s]\n",
      "epoch: 58 loss: 0.0033248928375542164: 100%|██████████████████████████████████████████| 30/30 [00:00<00:00, 199.61it/s]\n",
      "epoch: 59 loss: 0.0033020316623151302: 100%|██████████████████████████████████████████| 30/30 [00:00<00:00, 210.31it/s]\n",
      "epoch: 60 loss: 0.0032854594755917788: 100%|██████████████████████████████████████████| 30/30 [00:00<00:00, 174.09it/s]\n",
      "epoch: 61 loss: 0.0032659706193953753: 100%|██████████████████████████████████████████| 30/30 [00:00<00:00, 199.25it/s]\n",
      "epoch: 62 loss: 0.0032386009115725756: 100%|██████████████████████████████████████████| 30/30 [00:00<00:00, 201.08it/s]\n",
      "epoch: 63 loss: 0.0032213209196925163: 100%|██████████████████████████████████████████| 30/30 [00:00<00:00, 199.46it/s]\n",
      "epoch: 64 loss: 0.0032049117144197226: 100%|██████████████████████████████████████████| 30/30 [00:00<00:00, 196.83it/s]\n",
      "epoch: 65 loss: 0.0031955938320606947: 100%|██████████████████████████████████████████| 30/30 [00:00<00:00, 171.58it/s]\n",
      "epoch: 66 loss: 0.0031847835052758455: 100%|██████████████████████████████████████████| 30/30 [00:00<00:00, 191.77it/s]\n",
      "epoch: 67 loss: 0.003135922597721219: 100%|███████████████████████████████████████████| 30/30 [00:00<00:00, 198.16it/s]\n",
      "epoch: 68 loss: 0.0031267113517969847: 100%|██████████████████████████████████████████| 30/30 [00:00<00:00, 190.33it/s]\n",
      "epoch: 69 loss: 0.0030969902873039246: 100%|██████████████████████████████████████████| 30/30 [00:00<00:00, 187.10it/s]\n",
      "epoch: 70 loss: 0.0030732378363609314: 100%|██████████████████████████████████████████| 30/30 [00:00<00:00, 165.18it/s]\n",
      "epoch: 71 loss: 0.003076410386711359: 100%|███████████████████████████████████████████| 30/30 [00:00<00:00, 205.75it/s]\n",
      "epoch: 72 loss: 0.003046532394364476: 100%|███████████████████████████████████████████| 30/30 [00:00<00:00, 209.88it/s]\n",
      "epoch: 73 loss: 0.003008756786584854: 100%|███████████████████████████████████████████| 30/30 [00:00<00:00, 198.14it/s]\n",
      "epoch: 74 loss: 0.0029963748529553413: 100%|██████████████████████████████████████████| 30/30 [00:00<00:00, 193.58it/s]\n",
      "epoch: 75 loss: 0.0029787207022309303: 100%|██████████████████████████████████████████| 30/30 [00:00<00:00, 181.31it/s]\n",
      "epoch: 76 loss: 0.002961555030196905: 100%|███████████████████████████████████████████| 30/30 [00:00<00:00, 187.69it/s]\n",
      "epoch: 77 loss: 0.0029402594082057476: 100%|██████████████████████████████████████████| 30/30 [00:00<00:00, 194.79it/s]\n",
      "epoch: 78 loss: 0.002927360823377967: 100%|███████████████████████████████████████████| 30/30 [00:00<00:00, 202.97it/s]\n",
      "epoch: 79 loss: 0.0029115150682628155: 100%|██████████████████████████████████████████| 30/30 [00:00<00:00, 177.26it/s]\n",
      "epoch: 80 loss: 0.002886960282921791: 100%|███████████████████████████████████████████| 30/30 [00:00<00:00, 185.53it/s]\n",
      "epoch: 81 loss: 0.0028660011012107134: 100%|██████████████████████████████████████████| 30/30 [00:00<00:00, 197.02it/s]\n",
      "epoch: 82 loss: 0.0028381645679473877: 100%|██████████████████████████████████████████| 30/30 [00:00<00:00, 201.64it/s]\n",
      "epoch: 83 loss: 0.002820312511175871: 100%|███████████████████████████████████████████| 30/30 [00:00<00:00, 183.47it/s]\n",
      "epoch: 84 loss: 0.002803884446620941: 100%|███████████████████████████████████████████| 30/30 [00:00<00:00, 191.10it/s]\n",
      "epoch: 85 loss: 0.0027931134682148695: 100%|██████████████████████████████████████████| 30/30 [00:00<00:00, 203.54it/s]\n",
      "epoch: 86 loss: 0.002783166477456689: 100%|███████████████████████████████████████████| 30/30 [00:00<00:00, 191.86it/s]\n",
      "epoch: 87 loss: 0.002752862172201276: 100%|███████████████████████████████████████████| 30/30 [00:00<00:00, 184.57it/s]\n",
      "epoch: 88 loss: 0.0027181366458535194: 100%|██████████████████████████████████████████| 30/30 [00:00<00:00, 194.95it/s]\n",
      "epoch: 89 loss: 0.0027046948671340942: 100%|██████████████████████████████████████████| 30/30 [00:00<00:00, 195.51it/s]\n",
      "epoch: 90 loss: 0.002694827737286687: 100%|███████████████████████████████████████████| 30/30 [00:00<00:00, 183.21it/s]\n",
      "epoch: 91 loss: 0.0026784942019730806: 100%|██████████████████████████████████████████| 30/30 [00:00<00:00, 184.13it/s]\n",
      "epoch: 92 loss: 0.0026759032625705004: 100%|██████████████████████████████████████████| 30/30 [00:00<00:00, 166.93it/s]\n",
      "epoch: 93 loss: 0.0026379062328487635: 100%|██████████████████████████████████████████| 30/30 [00:00<00:00, 188.38it/s]\n",
      "epoch: 94 loss: 0.002603191416710615: 100%|███████████████████████████████████████████| 30/30 [00:00<00:00, 209.83it/s]\n",
      "epoch: 95 loss: 0.0025820813607424498: 100%|██████████████████████████████████████████| 30/30 [00:00<00:00, 203.73it/s]\n",
      "epoch: 96 loss: 0.0025782051961869: 100%|█████████████████████████████████████████████| 30/30 [00:00<00:00, 180.50it/s]\n",
      "epoch: 97 loss: 0.0025618199724704027: 100%|██████████████████████████████████████████| 30/30 [00:00<00:00, 197.87it/s]\n",
      "epoch: 98 loss: 0.0025555361062288284: 100%|██████████████████████████████████████████| 30/30 [00:00<00:00, 194.61it/s]\n",
      "epoch: 99 loss: 0.002522601280361414: 100%|███████████████████████████████████████████| 30/30 [00:00<00:00, 185.11it/s]\n",
      "epoch: 100 loss: 0.0025090579874813557: 100%|█████████████████████████████████████████| 30/30 [00:00<00:00, 167.31it/s]\n",
      "epoch: 101 loss: 0.0024775781203061342: 100%|█████████████████████████████████████████| 30/30 [00:00<00:00, 181.29it/s]\n",
      "epoch: 102 loss: 0.002465790370479226: 100%|██████████████████████████████████████████| 30/30 [00:00<00:00, 207.80it/s]\n",
      "epoch: 103 loss: 0.002438946394249797: 100%|██████████████████████████████████████████| 30/30 [00:00<00:00, 200.48it/s]\n",
      "epoch: 104 loss: 0.0024054893292486668: 100%|█████████████████████████████████████████| 30/30 [00:00<00:00, 180.61it/s]\n",
      "epoch: 105 loss: 0.0023953933268785477: 100%|█████████████████████████████████████████| 30/30 [00:00<00:00, 196.88it/s]\n",
      "epoch: 106 loss: 0.0023687377106398344: 100%|█████████████████████████████████████████| 30/30 [00:00<00:00, 186.94it/s]\n",
      "epoch: 107 loss: 0.002371764974668622: 100%|██████████████████████████████████████████| 30/30 [00:00<00:00, 162.86it/s]\n",
      "epoch: 108 loss: 0.0023327923845499754: 100%|█████████████████████████████████████████| 30/30 [00:00<00:00, 194.84it/s]\n",
      "epoch: 109 loss: 0.0023098390083760023: 100%|█████████████████████████████████████████| 30/30 [00:00<00:00, 197.05it/s]\n",
      "epoch: 110 loss: 0.0022716443054378033: 100%|█████████████████████████████████████████| 30/30 [00:00<00:00, 198.45it/s]\n",
      "epoch: 111 loss: 0.002261475659906864: 100%|██████████████████████████████████████████| 30/30 [00:00<00:00, 170.21it/s]\n",
      "epoch: 112 loss: 0.002246229676529765: 100%|██████████████████████████████████████████| 30/30 [00:00<00:00, 186.62it/s]\n",
      "epoch: 113 loss: 0.0022230951581150293: 100%|█████████████████████████████████████████| 30/30 [00:00<00:00, 175.06it/s]\n",
      "epoch: 114 loss: 0.002194454427808523: 100%|██████████████████████████████████████████| 30/30 [00:00<00:00, 172.00it/s]\n",
      "epoch: 115 loss: 0.0021757958456873894: 100%|█████████████████████████████████████████| 30/30 [00:00<00:00, 174.23it/s]\n",
      "epoch: 116 loss: 0.002164715202525258: 100%|██████████████████████████████████████████| 30/30 [00:00<00:00, 187.47it/s]\n",
      "epoch: 117 loss: 0.002160586416721344: 100%|██████████████████████████████████████████| 30/30 [00:00<00:00, 186.77it/s]\n",
      "epoch: 118 loss: 0.0021225681994110346: 100%|█████████████████████████████████████████| 30/30 [00:00<00:00, 172.49it/s]\n",
      "epoch: 119 loss: 0.0020986406598240137: 100%|█████████████████████████████████████████| 30/30 [00:00<00:00, 183.31it/s]\n",
      "epoch: 120 loss: 0.002071535913273692: 100%|██████████████████████████████████████████| 30/30 [00:00<00:00, 204.47it/s]\n",
      "epoch: 121 loss: 0.002045332221314311: 100%|██████████████████████████████████████████| 30/30 [00:00<00:00, 167.46it/s]\n",
      "epoch: 122 loss: 0.002029368421062827: 100%|██████████████████████████████████████████| 30/30 [00:00<00:00, 214.13it/s]\n",
      "epoch: 123 loss: 0.001997950952500105: 100%|██████████████████████████████████████████| 30/30 [00:00<00:00, 200.11it/s]\n",
      "epoch: 124 loss: 0.0019894668366760015: 100%|█████████████████████████████████████████| 30/30 [00:00<00:00, 198.10it/s]\n",
      "epoch: 125 loss: 0.0019557971972972155: 100%|█████████████████████████████████████████| 30/30 [00:00<00:00, 177.27it/s]\n",
      "epoch: 126 loss: 0.0019457361195236444: 100%|█████████████████████████████████████████| 30/30 [00:00<00:00, 195.37it/s]\n",
      "epoch: 127 loss: 0.0019005119102075696: 100%|█████████████████████████████████████████| 30/30 [00:00<00:00, 195.01it/s]\n",
      "epoch: 128 loss: 0.0019077911274507642: 100%|█████████████████████████████████████████| 30/30 [00:00<00:00, 179.45it/s]\n",
      "epoch: 129 loss: 0.0018801004625856876: 100%|█████████████████████████████████████████| 30/30 [00:00<00:00, 198.47it/s]\n",
      "epoch: 130 loss: 0.0018568719970062375: 100%|█████████████████████████████████████████| 30/30 [00:00<00:00, 190.19it/s]\n",
      "epoch: 131 loss: 0.001835186267271638: 100%|██████████████████████████████████████████| 30/30 [00:00<00:00, 220.39it/s]\n",
      "epoch: 132 loss: 0.0018227336695417762: 100%|█████████████████████████████████████████| 30/30 [00:00<00:00, 166.20it/s]\n",
      "epoch: 133 loss: 0.0017767460085451603: 100%|█████████████████████████████████████████| 30/30 [00:00<00:00, 189.06it/s]\n",
      "epoch: 134 loss: 0.0017428358551114798: 100%|█████████████████████████████████████████| 30/30 [00:00<00:00, 185.11it/s]\n",
      "epoch: 135 loss: 0.0017132895300164819: 100%|█████████████████████████████████████████| 30/30 [00:00<00:00, 173.25it/s]\n",
      "epoch: 136 loss: 0.0016725133173167706: 100%|█████████████████████████████████████████| 30/30 [00:00<00:00, 199.05it/s]\n",
      "epoch: 137 loss: 0.0016489028930664062: 100%|█████████████████████████████████████████| 30/30 [00:00<00:00, 200.67it/s]\n",
      "epoch: 138 loss: 0.001629731967113912: 100%|██████████████████████████████████████████| 30/30 [00:00<00:00, 181.74it/s]\n",
      "epoch: 139 loss: 0.0016007580561563373: 100%|█████████████████████████████████████████| 30/30 [00:00<00:00, 209.06it/s]\n",
      "epoch: 140 loss: 0.0015833793440833688: 100%|█████████████████████████████████████████| 30/30 [00:00<00:00, 206.46it/s]\n",
      "epoch: 141 loss: 0.0015455723041668534: 100%|█████████████████████████████████████████| 30/30 [00:00<00:00, 204.92it/s]\n",
      "epoch: 142 loss: 0.0015204359078779817: 100%|█████████████████████████████████████████| 30/30 [00:00<00:00, 176.01it/s]\n",
      "epoch: 143 loss: 0.0014884831616654992: 100%|█████████████████████████████████████████| 30/30 [00:00<00:00, 207.79it/s]\n",
      "epoch: 144 loss: 0.0014506821753457189: 100%|█████████████████████████████████████████| 30/30 [00:00<00:00, 206.99it/s]\n",
      "epoch: 145 loss: 0.001414095750078559: 100%|██████████████████████████████████████████| 30/30 [00:00<00:00, 183.96it/s]\n",
      "epoch: 146 loss: 0.0013816789723932743: 100%|█████████████████████████████████████████| 30/30 [00:00<00:00, 188.60it/s]\n",
      "epoch: 147 loss: 0.0013495186576619744: 100%|█████████████████████████████████████████| 30/30 [00:00<00:00, 203.92it/s]\n",
      "epoch: 148 loss: 0.0013173160841688514: 100%|█████████████████████████████████████████| 30/30 [00:00<00:00, 199.08it/s]\n",
      "epoch: 149 loss: 0.0012896618572995067: 100%|█████████████████████████████████████████| 30/30 [00:00<00:00, 196.24it/s]\n",
      "epoch: 150 loss: 0.001265271450392902: 100%|██████████████████████████████████████████| 30/30 [00:00<00:00, 205.12it/s]\n",
      "epoch: 151 loss: 0.0012442950392141938: 100%|█████████████████████████████████████████| 30/30 [00:00<00:00, 214.89it/s]\n",
      "epoch: 152 loss: 0.0012182132340967655: 100%|█████████████████████████████████████████| 30/30 [00:00<00:00, 201.42it/s]\n",
      "epoch: 153 loss: 0.0011948015308007598: 100%|█████████████████████████████████████████| 30/30 [00:00<00:00, 173.18it/s]\n",
      "epoch: 154 loss: 0.0011671568499878049: 100%|█████████████████████████████████████████| 30/30 [00:00<00:00, 189.80it/s]\n",
      "epoch: 155 loss: 0.0011344788363203406: 100%|█████████████████████████████████████████| 30/30 [00:00<00:00, 211.35it/s]\n",
      "epoch: 156 loss: 0.001100821071304381: 100%|██████████████████████████████████████████| 30/30 [00:00<00:00, 194.01it/s]\n",
      "epoch: 157 loss: 0.0010650018230080605: 100%|█████████████████████████████████████████| 30/30 [00:00<00:00, 175.98it/s]\n",
      "epoch: 158 loss: 0.0010325557086616755: 100%|█████████████████████████████████████████| 30/30 [00:00<00:00, 191.74it/s]\n",
      "epoch: 159 loss: 0.0010031290585175157: 100%|█████████████████████████████████████████| 30/30 [00:00<00:00, 183.41it/s]\n",
      "epoch: 160 loss: 0.0009790515759959817: 100%|█████████████████████████████████████████| 30/30 [00:00<00:00, 202.11it/s]\n",
      "epoch: 161 loss: 0.0009609140106476843: 100%|█████████████████████████████████████████| 30/30 [00:00<00:00, 190.76it/s]\n",
      "epoch: 162 loss: 0.0009434851235710084: 100%|█████████████████████████████████████████| 30/30 [00:00<00:00, 166.56it/s]\n",
      "epoch: 163 loss: 0.000845195259898901: 100%|██████████████████████████████████████████| 30/30 [00:00<00:00, 191.06it/s]\n",
      "epoch: 164 loss: 0.0009870607173070312: 100%|█████████████████████████████████████████| 30/30 [00:00<00:00, 202.16it/s]\n",
      "epoch: 165 loss: 0.0008947430178523064: 100%|█████████████████████████████████████████| 30/30 [00:00<00:00, 173.17it/s]\n",
      "epoch: 166 loss: 0.0008925586589612067: 100%|█████████████████████████████████████████| 30/30 [00:00<00:00, 213.42it/s]\n",
      "epoch: 167 loss: 0.0008364439127035439: 100%|█████████████████████████████████████████| 30/30 [00:00<00:00, 202.35it/s]\n",
      "epoch: 168 loss: 0.0007844663341529667: 100%|█████████████████████████████████████████| 30/30 [00:00<00:00, 181.12it/s]\n",
      "epoch: 169 loss: 0.0007331913220696151: 100%|█████████████████████████████████████████| 30/30 [00:00<00:00, 196.95it/s]\n",
      "epoch: 170 loss: 0.0006854630191810429: 100%|█████████████████████████████████████████| 30/30 [00:00<00:00, 194.31it/s]\n",
      "epoch: 171 loss: 0.0006495372508652508: 100%|█████████████████████████████████████████| 30/30 [00:00<00:00, 179.51it/s]\n",
      "epoch: 172 loss: 0.0006286670104600489: 100%|█████████████████████████████████████████| 30/30 [00:00<00:00, 188.29it/s]\n",
      "epoch: 173 loss: 0.0006261633825488389: 100%|█████████████████████████████████████████| 30/30 [00:00<00:00, 203.97it/s]\n",
      "epoch: 174 loss: 0.0006417309050448239: 100%|█████████████████████████████████████████| 30/30 [00:00<00:00, 214.72it/s]\n",
      "epoch: 175 loss: 0.0006659512291662395: 100%|█████████████████████████████████████████| 30/30 [00:00<00:00, 209.24it/s]\n",
      "epoch: 176 loss: 0.0006990995025262237: 100%|█████████████████████████████████████████| 30/30 [00:00<00:00, 186.22it/s]\n",
      "epoch: 177 loss: 0.0007254817755892873: 100%|█████████████████████████████████████████| 30/30 [00:00<00:00, 208.55it/s]\n",
      "epoch: 178 loss: 0.0007228142931126058: 100%|█████████████████████████████████████████| 30/30 [00:00<00:00, 197.76it/s]\n",
      "epoch: 179 loss: 0.0006900792941451073: 100%|█████████████████████████████████████████| 30/30 [00:00<00:00, 200.65it/s]\n",
      "epoch: 180 loss: 0.0006259267101995647: 100%|█████████████████████████████████████████| 30/30 [00:00<00:00, 198.87it/s]\n",
      "epoch: 181 loss: 0.0005441061221063137: 100%|█████████████████████████████████████████| 30/30 [00:00<00:00, 189.58it/s]\n",
      "epoch: 182 loss: 0.0004616970254573971: 100%|█████████████████████████████████████████| 30/30 [00:00<00:00, 220.56it/s]\n",
      "epoch: 183 loss: 0.0003993796417489648: 100%|█████████████████████████████████████████| 30/30 [00:00<00:00, 213.03it/s]\n",
      "epoch: 184 loss: 0.0003640389477368444: 100%|█████████████████████████████████████████| 30/30 [00:00<00:00, 202.39it/s]\n",
      "epoch: 185 loss: 0.00034896013676188886: 100%|████████████████████████████████████████| 30/30 [00:00<00:00, 202.59it/s]\n",
      "epoch: 186 loss: 0.0003505473432596773: 100%|█████████████████████████████████████████| 30/30 [00:00<00:00, 174.11it/s]\n",
      "epoch: 187 loss: 0.0003808826731983572: 100%|█████████████████████████████████████████| 30/30 [00:00<00:00, 192.65it/s]\n",
      "epoch: 188 loss: 0.0004794497217517346: 100%|█████████████████████████████████████████| 30/30 [00:00<00:00, 204.23it/s]\n",
      "epoch: 189 loss: 0.0006739385426044464: 100%|█████████████████████████████████████████| 30/30 [00:00<00:00, 188.44it/s]\n",
      "epoch: 190 loss: 0.0009171940037049353: 100%|█████████████████████████████████████████| 30/30 [00:00<00:00, 172.93it/s]\n",
      "epoch: 191 loss: 0.001147421426139772: 100%|██████████████████████████████████████████| 30/30 [00:00<00:00, 195.96it/s]\n",
      "epoch: 192 loss: 0.0012835877714678645: 100%|█████████████████████████████████████████| 30/30 [00:00<00:00, 196.27it/s]\n",
      "epoch: 193 loss: 0.0011721824994310737: 100%|█████████████████████████████████████████| 30/30 [00:00<00:00, 191.36it/s]\n",
      "epoch: 194 loss: 0.0008274537394754589: 100%|█████████████████████████████████████████| 30/30 [00:00<00:00, 201.82it/s]\n",
      "epoch: 195 loss: 0.0004465222591534257: 100%|█████████████████████████████████████████| 30/30 [00:00<00:00, 166.24it/s]\n",
      "epoch: 196 loss: 0.00034370264620520175: 100%|████████████████████████████████████████| 30/30 [00:00<00:00, 158.71it/s]\n",
      "epoch: 197 loss: 0.0006560314213857055: 100%|█████████████████████████████████████████| 30/30 [00:00<00:00, 190.19it/s]\n",
      "epoch: 198 loss: 0.001311604049988091: 100%|██████████████████████████████████████████| 30/30 [00:00<00:00, 199.29it/s]\n",
      "epoch: 199 loss: 0.0016466176602989435: 100%|█████████████████████████████████████████| 30/30 [00:00<00:00, 167.13it/s]\n"
     ]
    }
   ],
   "source": [
    "for epoch in range(200):\n",
    "    iterator = tqdm.tqdm(loader)\n",
    "    for data, label in iterator:\n",
    "        optim.zero_grad()\n",
    "\n",
    "        h0 = torch.zeros(5, data.shape[0], 8).to(device)\n",
    "\n",
    "        pred = model(data.type(torch.FloatTensor).to(device), h0)\n",
    "\n",
    "        loss = nn.MSELoss()(pred, label.type(torch.FloatTensor).to(device))\n",
    "\n",
    "        loss.backward()\n",
    "        optim.step()\n",
    "\n",
    "        iterator.set_description(f\"epoch: {epoch} loss: {loss.item()}\")"
   ]
  },
  {
   "cell_type": "code",
   "execution_count": 17,
   "id": "da0fa8fb-1965-4761-9d90-58c4178f25f7",
   "metadata": {},
   "outputs": [],
   "source": [
    "torch.save(model.state_dict(), \"./rnn.pth\")"
   ]
  },
  {
   "cell_type": "markdown",
   "id": "7ca2753e-c559-4da6-9ad0-00e4203fa9eb",
   "metadata": {},
   "source": [
    "# 모델 성능 평가하기"
   ]
  },
  {
   "cell_type": "code",
   "execution_count": 18,
   "id": "3d22843e-a988-4b6f-b610-abd8a44e7b1b",
   "metadata": {},
   "outputs": [],
   "source": [
    "loader = DataLoader(dataset, batch_size=1)"
   ]
  },
  {
   "cell_type": "code",
   "execution_count": 19,
   "id": "667c302e-1e67-4e63-8bd7-c6b14c5b619e",
   "metadata": {},
   "outputs": [
    {
     "data": {
      "text/plain": [
       "0.0027605840004980564"
      ]
     },
     "execution_count": 19,
     "metadata": {},
     "output_type": "execute_result"
    }
   ],
   "source": [
    "preds = []\n",
    "total_loss = 0\n",
    "\n",
    "with torch.no_grad():\n",
    "    model.load_state_dict(torch.load(\"rnn.pth\", weights_only=True, map_location=device))\n",
    "\n",
    "    for data, label in loader:\n",
    "        h0 = torch.zeros(5, data.shape[0], 8).to(device)\n",
    "\n",
    "        pred = model(data.type(torch.FloatTensor).to(device), h0)\n",
    "        preds.append(pred.item())\n",
    "\n",
    "        loss = nn.MSELoss()(pred, label.type(torch.FloatTensor).to(device))\n",
    "\n",
    "        total_loss += loss / len(loader)\n",
    "\n",
    "total_loss.item()"
   ]
  },
  {
   "cell_type": "code",
   "execution_count": 20,
   "id": "9122cad6-9615-4996-a4e1-42ea8ffd19d7",
   "metadata": {},
   "outputs": [
    {
     "data": {
      "image/png": "[encoded data removed]",
      "text/plain": [
       "<Figure size 640x480 with 1 Axes>"
      ]
     },
     "metadata": {},
     "output_type": "display_data"
    }
   ],
   "source": [
    "plt.plot(preds, label=\"prediction\")\n",
    "plt.plot(dataset.label[30:], label=\"actual\")\n",
    "plt.legend()\n",
    "plt.show()"
   ]
  }
 ],
 "metadata": {
  "kernelspec": {
   "display_name": "Python 3 (ipykernel)",
   "language": "python",
   "name": "python3"
  },
  "language_info": {
   "codemirror_mode": {
    "name": "ipython",
    "version": 3
   },
   "file_extension": ".py",
   "mimetype": "text/x-python",
   "name": "python",
   "nbconvert_exporter": "python",
   "pygments_lexer": "ipython3",
   "version": "3.9.21"
  }
 },
 "nbformat": 4,
 "nbformat_minor": 5
}
