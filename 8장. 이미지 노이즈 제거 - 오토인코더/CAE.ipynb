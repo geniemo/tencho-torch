{
 "cells": [
  {
   "cell_type": "code",
   "execution_count": 1,
   "id": "bbf42a89-0560-414d-9310-3056a5676e66",
   "metadata": {},
   "outputs": [],
   "source": [
    "import matplotlib.pyplot as plt\n",
    "import numpy as np\n",
    "import torch\n",
    "from torchvision.datasets.mnist import MNIST\n",
    "from torchvision.transforms import ToTensor"
   ]
  },
  {
   "cell_type": "code",
   "execution_count": 2,
   "id": "33048377-ab1b-4943-9e9f-5f4411335d8a",
   "metadata": {},
   "outputs": [],
   "source": [
    "def gaussian_noise(x, scale=0.8):\n",
    "    gaussian_data_x = x + np.random.normal(loc=0, scale=scale, size=x.shape)\n",
    "    gaussian_data_x = np.clip(gaussian_data_x, 0, 1)\n",
    "\n",
    "    # gaussian_data_x = torch.tensor(gaussian_data_x)\n",
    "    gaussian_data_x = gaussian_data_x.type(torch.FloatTensor)\n",
    "    return gaussian_data_x"
   ]
  },
  {
   "cell_type": "code",
   "execution_count": 3,
   "id": "274a0a51-06e5-44e4-b319-3dfd209a79e0",
   "metadata": {
    "scrolled": true
   },
   "outputs": [],
   "source": [
    "training_data = MNIST(root=\"../input/\", train=True, download=True, transform=ToTensor())\n",
    "test_data = MNIST(root=\"../input/\", train=False, download=True, transform=ToTensor())"
   ]
  },
  {
   "cell_type": "code",
   "execution_count": 4,
   "id": "bfbe911b-4838-44a5-ab99-fca9374a9175",
   "metadata": {},
   "outputs": [
    {
     "data": {
      "image/png": "[encoded data removed]",
      "text/plain": [
       "<Figure size 640x480 with 2 Axes>"
      ]
     },
     "metadata": {},
     "output_type": "display_data"
    }
   ],
   "source": [
    "img = training_data.data[0]\n",
    "gaussian = gaussian_noise(img)\n",
    "\n",
    "plt.subplot(1, 2, 1)\n",
    "plt.title(\"original\")\n",
    "plt.imshow(img)\n",
    "\n",
    "plt.subplot(1, 2, 2)\n",
    "plt.title(\"noisy\")\n",
    "plt.imshow(gaussian)\n",
    "\n",
    "plt.show()"
   ]
  },
  {
   "cell_type": "markdown",
   "id": "57b983c8-c680-4578-8512-640aff31e8ff",
   "metadata": {},
   "source": [
    "# 학습용 데이터 만들기"
   ]
  },
  {
   "cell_type": "code",
   "execution_count": 5,
   "id": "a285325c-2230-4c38-9ef4-c3039b5c5dab",
   "metadata": {},
   "outputs": [],
   "source": [
    "from torch.utils.data.dataset import Dataset"
   ]
  },
  {
   "cell_type": "code",
   "execution_count": 6,
   "id": "3e31c9e9-7890-41c3-8314-36de5f2a2c9a",
   "metadata": {},
   "outputs": [],
   "source": [
    "class Denoising(Dataset):\n",
    "    def __init__(self):\n",
    "        self.mnist = MNIST(\n",
    "            root=\"../input/\", train=True, download=True, transform=ToTensor()\n",
    "        )\n",
    "        self.data = []  # 노이즈가 낀 데이터 담는 리스트\n",
    "\n",
    "        for i in range(len(self.mnist)):\n",
    "            noisy_input = gaussian_noise(self.mnist.data[i])\n",
    "            # input_tensor = torch.tensor(noisy_input)\n",
    "            self.data.append(torch.unsqueeze(noisy_input, dim=0))\n",
    "\n",
    "    def __len__(self):\n",
    "        return len(self.data)\n",
    "\n",
    "    def __getitem__(self, i):\n",
    "        data = self.data[i]\n",
    "        label = self.mnist.data[i] / 255\n",
    "        return data, label"
   ]
  },
  {
   "cell_type": "markdown",
   "id": "72a1e811-4d87-47ce-9dff-2a1f7d08c9a7",
   "metadata": {},
   "source": [
    "# 인코더 모델 정의하기"
   ]
  },
  {
   "cell_type": "code",
   "execution_count": 7,
   "id": "d40b8d97-b159-432a-9b5e-05f4762c7029",
   "metadata": {},
   "outputs": [],
   "source": [
    "import torch.nn as nn"
   ]
  },
  {
   "cell_type": "code",
   "execution_count": 8,
   "id": "29ce5bf7-bc0f-4e90-a035-9659eccf7323",
   "metadata": {},
   "outputs": [],
   "source": [
    "class BasicBlock(nn.Module):\n",
    "    def __init__(self, in_channels, out_channels, hidden_dim):\n",
    "        super(BasicBlock, self).__init__()\n",
    "\n",
    "        self.conv1 = nn.Conv2d(in_channels, hidden_dim, kernel_size=3, padding=1)\n",
    "        self.conv2 = nn.Conv2d(hidden_dim, out_channels, kernel_size=3, padding=1)\n",
    "        self.relu = nn.ReLU()\n",
    "\n",
    "    def forward(self, x):\n",
    "        x = self.conv1(x)\n",
    "        x = self.relu(x)\n",
    "        x = self.conv2(x)\n",
    "        x = self.relu(x)\n",
    "\n",
    "        return x"
   ]
  },
  {
   "cell_type": "code",
   "execution_count": 9,
   "id": "a33e2739-995b-44ef-b1b6-d0bec83a1210",
   "metadata": {},
   "outputs": [],
   "source": [
    "class Encoder(nn.Module):\n",
    "    def __init__(self):\n",
    "        super(Encoder, self).__init__()\n",
    "\n",
    "        self.conv1 = BasicBlock(in_channels=1, out_channels=16, hidden_dim=16)\n",
    "        self.conv2 = BasicBlock(in_channels=16, out_channels=8, hidden_dim=8)\n",
    "\n",
    "        self.pool = nn.AvgPool2d(kernel_size=2, stride=2)\n",
    "\n",
    "    def forward(self, x):\n",
    "        x = self.conv1(x)\n",
    "        x = self.pool(x)\n",
    "        x = self.conv2(x)\n",
    "        x = self.pool(x)\n",
    "        return x"
   ]
  },
  {
   "cell_type": "markdown",
   "id": "a03a052d-a046-4bf0-a751-355840944e00",
   "metadata": {},
   "source": [
    "# 디코더 모델 정의하기"
   ]
  },
  {
   "cell_type": "code",
   "execution_count": 10,
   "id": "dcb5efd5-ab28-4b71-8fda-b628503a2bbf",
   "metadata": {},
   "outputs": [],
   "source": [
    "class Decoder(nn.Module):\n",
    "    def __init__(self):\n",
    "        super(Decoder, self).__init__()\n",
    "        self.conv1 = BasicBlock(in_channels=8, out_channels=8, hidden_dim=8)\n",
    "        self.conv2 = BasicBlock(in_channels=8, out_channels=16, hidden_dim=16)\n",
    "        self.conv3 = nn.Conv2d(in_channels=16, out_channels=1, kernel_size=3, padding=1)\n",
    "\n",
    "        self.upsample1 = nn.ConvTranspose2d(\n",
    "            in_channels=8, out_channels=8, kernel_size=2, stride=2\n",
    "        )\n",
    "        self.upsample2 = nn.ConvTranspose2d(\n",
    "            in_channels=16, out_channels=16, kernel_size=2, stride=2\n",
    "        )\n",
    "\n",
    "    def forward(self, x):\n",
    "        x = self.conv1(x)\n",
    "        x = self.upsample1(x)\n",
    "        x = self.conv2(x)\n",
    "        x = self.upsample2(x)\n",
    "        x = self.conv3(x)\n",
    "\n",
    "        return x"
   ]
  },
  {
   "cell_type": "markdown",
   "id": "acf8765c-e3c4-44f3-9250-60d9f494e81e",
   "metadata": {},
   "source": [
    "# CAE 모델 정의하기"
   ]
  },
  {
   "cell_type": "code",
   "execution_count": 11,
   "id": "7e35b14c-e287-4c7b-9b92-31a43f0689f5",
   "metadata": {},
   "outputs": [],
   "source": [
    "class CAE(nn.Module):\n",
    "    def __init__(self):\n",
    "        super(CAE, self).__init__()\n",
    "\n",
    "        self.enc = Encoder()\n",
    "        self.dec = Decoder()\n",
    "\n",
    "    def forward(self, x):\n",
    "        x = self.enc(x)\n",
    "        x = self.dec(x)\n",
    "        x = torch.squeeze(x)\n",
    "\n",
    "        return x"
   ]
  },
  {
   "cell_type": "markdown",
   "id": "a0487ce2-58aa-4c08-8bd6-343fad8344a6",
   "metadata": {},
   "source": [
    "# 모델 학습하기"
   ]
  },
  {
   "cell_type": "code",
   "execution_count": 12,
   "id": "e8d1fe6c-2540-41bb-bf7d-970be7e9b05a",
   "metadata": {},
   "outputs": [],
   "source": [
    "import tqdm\n",
    "from torch.optim.adam import Adam\n",
    "from torch.utils.data.dataloader import DataLoader"
   ]
  },
  {
   "cell_type": "code",
   "execution_count": 13,
   "id": "6a5ba35d-d7d7-4435-9839-58a7c392cd4a",
   "metadata": {},
   "outputs": [
    {
     "data": {
      "text/plain": [
       "'cuda'"
      ]
     },
     "execution_count": 13,
     "metadata": {},
     "output_type": "execute_result"
    }
   ],
   "source": [
    "device = \"cuda\" if torch.cuda.is_available() else \"cpu\"\n",
    "device"
   ]
  },
  {
   "cell_type": "code",
   "execution_count": 14,
   "id": "476c1b09-4fff-4460-abf2-2d8733969d78",
   "metadata": {},
   "outputs": [],
   "source": [
    "trainset = Denoising()\n",
    "train_loader = DataLoader(trainset, batch_size=32)"
   ]
  },
  {
   "cell_type": "code",
   "execution_count": 15,
   "id": "66635c0e-4b91-4b7e-a985-6914f4f36d5d",
   "metadata": {},
   "outputs": [
    {
     "data": {
      "text/plain": [
       "CAE(\n",
       "  (enc): Encoder(\n",
       "    (conv1): BasicBlock(\n",
       "      (conv1): Conv2d(1, 16, kernel_size=(3, 3), stride=(1, 1), padding=(1, 1))\n",
       "      (conv2): Conv2d(16, 16, kernel_size=(3, 3), stride=(1, 1), padding=(1, 1))\n",
       "      (relu): ReLU()\n",
       "    )\n",
       "    (conv2): BasicBlock(\n",
       "      (conv1): Conv2d(16, 8, kernel_size=(3, 3), stride=(1, 1), padding=(1, 1))\n",
       "      (conv2): Conv2d(8, 8, kernel_size=(3, 3), stride=(1, 1), padding=(1, 1))\n",
       "      (relu): ReLU()\n",
       "    )\n",
       "    (pool): AvgPool2d(kernel_size=2, stride=2, padding=0)\n",
       "  )\n",
       "  (dec): Decoder(\n",
       "    (conv1): BasicBlock(\n",
       "      (conv1): Conv2d(8, 8, kernel_size=(3, 3), stride=(1, 1), padding=(1, 1))\n",
       "      (conv2): Conv2d(8, 8, kernel_size=(3, 3), stride=(1, 1), padding=(1, 1))\n",
       "      (relu): ReLU()\n",
       "    )\n",
       "    (conv2): BasicBlock(\n",
       "      (conv1): Conv2d(8, 16, kernel_size=(3, 3), stride=(1, 1), padding=(1, 1))\n",
       "      (conv2): Conv2d(16, 16, kernel_size=(3, 3), stride=(1, 1), padding=(1, 1))\n",
       "      (relu): ReLU()\n",
       "    )\n",
       "    (conv3): Conv2d(16, 1, kernel_size=(3, 3), stride=(1, 1), padding=(1, 1))\n",
       "    (upsample1): ConvTranspose2d(8, 8, kernel_size=(2, 2), stride=(2, 2))\n",
       "    (upsample2): ConvTranspose2d(16, 16, kernel_size=(2, 2), stride=(2, 2))\n",
       "  )\n",
       ")"
      ]
     },
     "execution_count": 15,
     "metadata": {},
     "output_type": "execute_result"
    }
   ],
   "source": [
    "model = CAE().to(device)\n",
    "model"
   ]
  },
  {
   "cell_type": "code",
   "execution_count": 16,
   "id": "a1b3bcf1-f3eb-4397-a5d9-0edb66899baa",
   "metadata": {},
   "outputs": [],
   "source": [
    "lr = 0.001\n",
    "optim = Adam(params=model.parameters(), lr=lr)"
   ]
  },
  {
   "cell_type": "code",
   "execution_count": 17,
   "id": "5b81d2bb-de91-43ce-b48f-989cb0011780",
   "metadata": {},
   "outputs": [
    {
     "name": "stderr",
     "output_type": "stream",
     "text": [
      "epoch 1 loss: 0.011676146648824215: 100%|█████████████████████████████████████████| 1875/1875 [00:13<00:00, 138.54it/s]\n",
      "epoch 2 loss: 0.010198790580034256: 100%|█████████████████████████████████████████| 1875/1875 [00:12<00:00, 149.96it/s]\n",
      "epoch 3 loss: 0.009858381003141403: 100%|█████████████████████████████████████████| 1875/1875 [00:12<00:00, 148.53it/s]\n",
      "epoch 4 loss: 0.009707750752568245: 100%|█████████████████████████████████████████| 1875/1875 [00:12<00:00, 148.60it/s]\n",
      "epoch 5 loss: 0.009687582962214947: 100%|█████████████████████████████████████████| 1875/1875 [00:12<00:00, 147.94it/s]\n",
      "epoch 6 loss: 0.009352216497063637: 100%|█████████████████████████████████████████| 1875/1875 [00:12<00:00, 148.47it/s]\n",
      "epoch 7 loss: 0.009283134713768959: 100%|█████████████████████████████████████████| 1875/1875 [00:12<00:00, 147.63it/s]\n",
      "epoch 8 loss: 0.008870800025761127: 100%|█████████████████████████████████████████| 1875/1875 [00:12<00:00, 149.13it/s]\n",
      "epoch 9 loss: 0.008274495601654053: 100%|█████████████████████████████████████████| 1875/1875 [00:12<00:00, 146.57it/s]\n",
      "epoch 10 loss: 0.008479509502649307: 100%|████████████████████████████████████████| 1875/1875 [00:12<00:00, 146.47it/s]\n",
      "epoch 11 loss: 0.008162572979927063: 100%|████████████████████████████████████████| 1875/1875 [00:12<00:00, 146.32it/s]\n",
      "epoch 12 loss: 0.008064819499850273: 100%|████████████████████████████████████████| 1875/1875 [00:13<00:00, 142.95it/s]\n",
      "epoch 13 loss: 0.007938005961477757: 100%|████████████████████████████████████████| 1875/1875 [00:12<00:00, 144.63it/s]\n",
      "epoch 14 loss: 0.007759784813970327: 100%|████████████████████████████████████████| 1875/1875 [00:13<00:00, 144.07it/s]\n",
      "epoch 15 loss: 0.007592346519231796: 100%|████████████████████████████████████████| 1875/1875 [00:13<00:00, 142.90it/s]\n",
      "epoch 16 loss: 0.007743802387267351: 100%|████████████████████████████████████████| 1875/1875 [00:13<00:00, 142.72it/s]\n",
      "epoch 17 loss: 0.008094619028270245: 100%|████████████████████████████████████████| 1875/1875 [00:13<00:00, 144.10it/s]\n",
      "epoch 18 loss: 0.0074033550918102264: 100%|███████████████████████████████████████| 1875/1875 [00:13<00:00, 142.64it/s]\n",
      "epoch 19 loss: 0.007415086962282658: 100%|████████████████████████████████████████| 1875/1875 [00:13<00:00, 143.28it/s]\n",
      "epoch 20 loss: 0.00819549523293972: 100%|█████████████████████████████████████████| 1875/1875 [00:13<00:00, 143.83it/s]\n"
     ]
    }
   ],
   "source": [
    "for epoch in range(20):\n",
    "    iterator = tqdm.tqdm(train_loader)\n",
    "\n",
    "    for data, label in iterator:\n",
    "        optim.zero_grad()\n",
    "\n",
    "        pred = model(data.to(device))\n",
    "\n",
    "        loss = nn.MSELoss()(torch.squeeze(pred), label.to(device))\n",
    "        loss.backward()\n",
    "        optim.step()\n",
    "\n",
    "        iterator.set_description(f\"epoch {epoch + 1} loss: {loss.item()}\")"
   ]
  },
  {
   "cell_type": "code",
   "execution_count": 18,
   "id": "b6d85aa0-04a5-45b4-9440-009edc7575ad",
   "metadata": {},
   "outputs": [],
   "source": [
    "torch.save(model.state_dict(), \"./CAE.pth\")"
   ]
  },
  {
   "cell_type": "markdown",
   "id": "10e05fba-e5b8-46af-8d67-2a7923f05dad",
   "metadata": {},
   "source": [
    "# 모델 성능 평가하기"
   ]
  },
  {
   "cell_type": "code",
   "execution_count": 19,
   "id": "87aeffc8-2ad0-464a-9c32-e63cee16c19c",
   "metadata": {},
   "outputs": [
    {
     "data": {
      "image/png": "[encoded data removed]",
      "text/plain": [
       "<Figure size 640x480 with 3 Axes>"
      ]
     },
     "metadata": {},
     "output_type": "display_data"
    }
   ],
   "source": [
    "model.cpu()\n",
    "with torch.no_grad():\n",
    "    model.load_state_dict(\n",
    "        torch.load(\"./CAE.pth\", weights_only=True, map_location=device)\n",
    "    )\n",
    "\n",
    "    img = test_data.data[0]\n",
    "    gaussian = gaussian_noise(img)\n",
    "\n",
    "    # 모델의 입력 모양에 맞춰 채널 차원 추가\n",
    "    input_tensor = torch.unsqueeze(gaussian, dim=0)\n",
    "    input_tensor.type(torch.FloatTensor)\n",
    "    input_tensor.to(device)\n",
    "    # 배치 크기 1을 위한 배치 차원 추가\n",
    "    input_tensor = torch.unsqueeze(input_tensor, dim=0)\n",
    "\n",
    "    plt.subplot(1, 3, 1)\n",
    "    plt.imshow(torch.squeeze(gaussian))\n",
    "    plt.subplot(1, 3, 2)\n",
    "    plt.imshow(torch.squeeze(model(input_tensor)))\n",
    "    plt.subplot(1, 3, 3)\n",
    "    plt.imshow(torch.squeeze(img))\n",
    "    plt.show()"
   ]
  }
 ],
 "metadata": {
  "kernelspec": {
   "display_name": "Python 3 (ipykernel)",
   "language": "python",
   "name": "python3"
  },
  "language_info": {
   "codemirror_mode": {
    "name": "ipython",
    "version": 3
   },
   "file_extension": ".py",
   "mimetype": "text/x-python",
   "name": "python",
   "nbconvert_exporter": "python",
   "pygments_lexer": "ipython3",
   "version": "3.9.21"
  }
 },
 "nbformat": 4,
 "nbformat_minor": 5
}
