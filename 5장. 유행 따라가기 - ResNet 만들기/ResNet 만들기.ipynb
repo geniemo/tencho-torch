{
 "cells": [
  {
   "cell_type": "code",
   "execution_count": 1,
   "id": "e6d1f261-cd6b-425f-b6d7-a368d359e464",
   "metadata": {},
   "outputs": [],
   "source": [
    "import torch\n",
    "import torch.nn as nn"
   ]
  },
  {
   "cell_type": "code",
   "execution_count": 2,
   "id": "01165f97-fa56-4d84-98ae-08ecfae7689f",
   "metadata": {},
   "outputs": [],
   "source": [
    "class BasicBlock(nn.Module):\n",
    "    def __init__(self, in_channels, out_channels, kernel_size=3):\n",
    "        super(BasicBlock, self).__init__()\n",
    "\n",
    "        # 합성곱 층 정의\n",
    "        self.c1 = nn.Conv2d(\n",
    "            in_channels, out_channels, kernel_size=kernel_size, padding=1\n",
    "        )\n",
    "        self.c2 = nn.Conv2d(\n",
    "            out_channels, out_channels, kernel_size=kernel_size, padding=1\n",
    "        )\n",
    "\n",
    "        self.downsample = nn.Conv2d(in_channels, out_channels, kernel_size=1)\n",
    "\n",
    "        # 배치 정규화 층 정의\n",
    "        self.bn1 = nn.BatchNorm2d(num_features=out_channels)\n",
    "        self.bn2 = nn.BatchNorm2d(num_features=out_channels)\n",
    "\n",
    "        self.relu = nn.ReLU()\n",
    "\n",
    "    def forward(self, x):\n",
    "        # 스킵 커넥션을 위해 초기 입력 저장\n",
    "        x_ = x\n",
    "\n",
    "        # ResNet 기본 블록에서 F(x) 부분\n",
    "        x = self.c1(x)\n",
    "        x = self.bn1(x)\n",
    "        x = self.relu(x)\n",
    "        x = self.c2(x)\n",
    "        x = self.bn2(x)\n",
    "\n",
    "        # 합성곱 결과와 입력 채널 수 맞춤\n",
    "        x_ = self.downsample(x_)\n",
    "\n",
    "        # 스킵 커넥션\n",
    "        x += x_\n",
    "        x = self.relu(x)\n",
    "\n",
    "        return x"
   ]
  },
  {
   "cell_type": "code",
   "execution_count": 3,
   "id": "790e2acd-8547-43c1-a0ea-f8495678f07e",
   "metadata": {},
   "outputs": [],
   "source": [
    "class ResNet(nn.Module):\n",
    "    def __init__(self, num_classes=10):\n",
    "        super(ResNet, self).__init__()\n",
    "\n",
    "        self.b1 = BasicBlock(in_channels=3, out_channels=64)\n",
    "        self.b2 = BasicBlock(in_channels=64, out_channels=128)\n",
    "        self.b3 = BasicBlock(in_channels=128, out_channels=256)\n",
    "\n",
    "        self.pool = nn.AvgPool2d(kernel_size=2, stride=2)\n",
    "\n",
    "        self.fc1 = nn.Linear(in_features=4096, out_features=2048)\n",
    "        self.fc2 = nn.Linear(in_features=2048, out_features=512)\n",
    "        self.fc3 = nn.Linear(in_features=512, out_features=num_classes)\n",
    "\n",
    "        self.relu = nn.ReLU()\n",
    "\n",
    "    def forward(self, x):\n",
    "        x = self.b1(x)\n",
    "        x = self.pool(x)\n",
    "        x = self.b2(x)\n",
    "        x = self.pool(x)\n",
    "        x = self.b3(x)\n",
    "        x = self.pool(x)\n",
    "\n",
    "        x = torch.flatten(x, start_dim=1)\n",
    "\n",
    "        x = self.fc1(x)\n",
    "        x = self.relu(x)\n",
    "        x = self.fc2(x)\n",
    "        x = self.relu(x)\n",
    "        x = self.fc3(x)\n",
    "\n",
    "        return x"
   ]
  },
  {
   "cell_type": "code",
   "execution_count": 4,
   "id": "d55749d9-b0c8-4a4d-8672-c5baa63cdede",
   "metadata": {},
   "outputs": [],
   "source": [
    "import tqdm\n",
    "from torch.optim.adam import Adam\n",
    "from torch.utils.data.dataloader import DataLoader\n",
    "from torchvision.datasets.cifar import CIFAR10\n",
    "from torchvision.transforms import (\n",
    "    Compose,\n",
    "    Normalize,\n",
    "    RandomCrop,\n",
    "    RandomHorizontalFlip,\n",
    "    ToTensor,\n",
    ")"
   ]
  },
  {
   "cell_type": "code",
   "execution_count": 5,
   "id": "e2f409ae-7c03-4dd3-bc83-a585ef789a6a",
   "metadata": {},
   "outputs": [],
   "source": [
    "transforms = Compose(\n",
    "    [\n",
    "        RandomCrop((32, 32), padding=4),\n",
    "        RandomHorizontalFlip(p=0.5),\n",
    "        ToTensor(),\n",
    "        Normalize(mean=(0.4914, 0.4822, 0.4465), std=(0.247, 0.243, 0.261)),\n",
    "    ]\n",
    ")"
   ]
  },
  {
   "cell_type": "code",
   "execution_count": 6,
   "id": "78eef604-9bb4-41df-a1f1-e5b55598b257",
   "metadata": {},
   "outputs": [
    {
     "name": "stdout",
     "output_type": "stream",
     "text": [
      "Downloading https://www.cs.toronto.edu/~kriz/cifar-10-python.tar.gz to ./cifar-10-python.tar.gz\n"
     ]
    },
    {
     "name": "stderr",
     "output_type": "stream",
     "text": [
      "100%|███████████████████████████████████████████████████████████████████████████████| 170M/170M [00:11<00:00, 14.6MB/s]\n"
     ]
    },
    {
     "name": "stdout",
     "output_type": "stream",
     "text": [
      "Extracting ./cifar-10-python.tar.gz to ./\n",
      "Files already downloaded and verified\n"
     ]
    }
   ],
   "source": [
    "training_data = CIFAR10(root=\"./\", train=True, download=True, transform=transforms)\n",
    "test_data = CIFAR10(root=\"./\", train=False, download=True, transform=transforms)"
   ]
  },
  {
   "cell_type": "code",
   "execution_count": 7,
   "id": "7a633e05-0ca6-4fcd-bed6-62c4d514003b",
   "metadata": {},
   "outputs": [],
   "source": [
    "train_loader = DataLoader(training_data, batch_size=32, shuffle=True)\n",
    "test_loader = DataLoader(test_data, batch_size=32, shuffle=False)"
   ]
  },
  {
   "cell_type": "code",
   "execution_count": 8,
   "id": "a366a20a-cb9a-457b-996a-1524f899ece5",
   "metadata": {},
   "outputs": [
    {
     "data": {
      "text/plain": [
       "'cuda'"
      ]
     },
     "execution_count": 8,
     "metadata": {},
     "output_type": "execute_result"
    }
   ],
   "source": [
    "device = \"cuda\" if torch.cuda.is_available() else \"cpu\"\n",
    "device"
   ]
  },
  {
   "cell_type": "code",
   "execution_count": 9,
   "id": "70001a57-2298-4be8-8e4a-40757d6329cd",
   "metadata": {},
   "outputs": [
    {
     "data": {
      "text/plain": [
       "ResNet(\n",
       "  (b1): BasicBlock(\n",
       "    (c1): Conv2d(3, 64, kernel_size=(3, 3), stride=(1, 1), padding=(1, 1))\n",
       "    (c2): Conv2d(64, 64, kernel_size=(3, 3), stride=(1, 1), padding=(1, 1))\n",
       "    (downsample): Conv2d(3, 64, kernel_size=(1, 1), stride=(1, 1))\n",
       "    (bn1): BatchNorm2d(64, eps=1e-05, momentum=0.1, affine=True, track_running_stats=True)\n",
       "    (bn2): BatchNorm2d(64, eps=1e-05, momentum=0.1, affine=True, track_running_stats=True)\n",
       "    (relu): ReLU()\n",
       "  )\n",
       "  (b2): BasicBlock(\n",
       "    (c1): Conv2d(64, 128, kernel_size=(3, 3), stride=(1, 1), padding=(1, 1))\n",
       "    (c2): Conv2d(128, 128, kernel_size=(3, 3), stride=(1, 1), padding=(1, 1))\n",
       "    (downsample): Conv2d(64, 128, kernel_size=(1, 1), stride=(1, 1))\n",
       "    (bn1): BatchNorm2d(128, eps=1e-05, momentum=0.1, affine=True, track_running_stats=True)\n",
       "    (bn2): BatchNorm2d(128, eps=1e-05, momentum=0.1, affine=True, track_running_stats=True)\n",
       "    (relu): ReLU()\n",
       "  )\n",
       "  (b3): BasicBlock(\n",
       "    (c1): Conv2d(128, 256, kernel_size=(3, 3), stride=(1, 1), padding=(1, 1))\n",
       "    (c2): Conv2d(256, 256, kernel_size=(3, 3), stride=(1, 1), padding=(1, 1))\n",
       "    (downsample): Conv2d(128, 256, kernel_size=(1, 1), stride=(1, 1))\n",
       "    (bn1): BatchNorm2d(256, eps=1e-05, momentum=0.1, affine=True, track_running_stats=True)\n",
       "    (bn2): BatchNorm2d(256, eps=1e-05, momentum=0.1, affine=True, track_running_stats=True)\n",
       "    (relu): ReLU()\n",
       "  )\n",
       "  (pool): AvgPool2d(kernel_size=2, stride=2, padding=0)\n",
       "  (fc1): Linear(in_features=4096, out_features=2048, bias=True)\n",
       "  (fc2): Linear(in_features=2048, out_features=512, bias=True)\n",
       "  (fc3): Linear(in_features=512, out_features=10, bias=True)\n",
       "  (relu): ReLU()\n",
       ")"
      ]
     },
     "execution_count": 9,
     "metadata": {},
     "output_type": "execute_result"
    }
   ],
   "source": [
    "model = ResNet(num_classes=10)\n",
    "model.to(device)"
   ]
  },
  {
   "cell_type": "code",
   "execution_count": 10,
   "id": "571647e5-d0d9-418f-8b6f-1b4c8518b9a9",
   "metadata": {},
   "outputs": [],
   "source": [
    "lr = 1e-4\n",
    "optim = Adam(model.parameters(), lr=lr)"
   ]
  },
  {
   "cell_type": "code",
   "execution_count": 11,
   "id": "0fdbe372-87d1-474c-9461-499385d75234",
   "metadata": {},
   "outputs": [
    {
     "name": "stderr",
     "output_type": "stream",
     "text": [
      "epoch: 1 loss: 0.9666403532028198: 100%|███████████████████████████████████████████| 1563/1563 [00:33<00:00, 47.12it/s]\n",
      "epoch: 2 loss: 1.1442512273788452: 100%|███████████████████████████████████████████| 1563/1563 [00:31<00:00, 48.95it/s]\n",
      "epoch: 3 loss: 0.6006902456283569: 100%|███████████████████████████████████████████| 1563/1563 [00:32<00:00, 48.79it/s]\n",
      "epoch: 4 loss: 0.8722031116485596: 100%|███████████████████████████████████████████| 1563/1563 [00:31<00:00, 48.89it/s]\n",
      "epoch: 5 loss: 0.43194618821144104: 100%|██████████████████████████████████████████| 1563/1563 [00:32<00:00, 48.74it/s]\n",
      "epoch: 6 loss: 0.3194368779659271: 100%|███████████████████████████████████████████| 1563/1563 [00:31<00:00, 48.97it/s]\n",
      "epoch: 7 loss: 0.5391959547996521: 100%|███████████████████████████████████████████| 1563/1563 [00:31<00:00, 48.89it/s]\n",
      "epoch: 8 loss: 0.3684583008289337: 100%|███████████████████████████████████████████| 1563/1563 [00:31<00:00, 49.16it/s]\n",
      "epoch: 9 loss: 0.5306670665740967: 100%|███████████████████████████████████████████| 1563/1563 [00:31<00:00, 49.33it/s]\n",
      "epoch: 10 loss: 0.584302544593811: 100%|███████████████████████████████████████████| 1563/1563 [00:31<00:00, 49.39it/s]\n",
      "epoch: 11 loss: 0.8409729599952698: 100%|██████████████████████████████████████████| 1563/1563 [00:31<00:00, 49.37it/s]\n",
      "epoch: 12 loss: 0.39689403772354126: 100%|█████████████████████████████████████████| 1563/1563 [00:31<00:00, 49.33it/s]\n",
      "epoch: 13 loss: 0.06827947497367859: 100%|█████████████████████████████████████████| 1563/1563 [00:31<00:00, 49.26it/s]\n",
      "epoch: 14 loss: 0.2748985290527344: 100%|██████████████████████████████████████████| 1563/1563 [00:32<00:00, 48.37it/s]\n",
      "epoch: 15 loss: 0.06288647651672363: 100%|█████████████████████████████████████████| 1563/1563 [00:31<00:00, 49.07it/s]\n",
      "epoch: 16 loss: 0.0649934783577919: 100%|██████████████████████████████████████████| 1563/1563 [00:31<00:00, 49.19it/s]\n",
      "epoch: 17 loss: 0.0062599885277450085: 100%|███████████████████████████████████████| 1563/1563 [00:31<00:00, 49.16it/s]\n",
      "epoch: 18 loss: 0.11428771167993546: 100%|█████████████████████████████████████████| 1563/1563 [00:32<00:00, 48.78it/s]\n",
      "epoch: 19 loss: 0.2448159158229828: 100%|██████████████████████████████████████████| 1563/1563 [00:32<00:00, 48.27it/s]\n",
      "epoch: 20 loss: 0.08238770067691803: 100%|█████████████████████████████████████████| 1563/1563 [00:31<00:00, 49.23it/s]\n",
      "epoch: 21 loss: 0.1937153935432434: 100%|██████████████████████████████████████████| 1563/1563 [00:31<00:00, 49.37it/s]\n",
      "epoch: 22 loss: 0.07247903198003769: 100%|█████████████████████████████████████████| 1563/1563 [00:32<00:00, 48.37it/s]\n",
      "epoch: 23 loss: 0.3951651453971863: 100%|██████████████████████████████████████████| 1563/1563 [00:32<00:00, 48.59it/s]\n",
      "epoch: 24 loss: 0.002087268978357315: 100%|████████████████████████████████████████| 1563/1563 [00:32<00:00, 48.76it/s]\n",
      "epoch: 25 loss: 0.019022677093744278: 100%|████████████████████████████████████████| 1563/1563 [00:32<00:00, 48.74it/s]\n",
      "epoch: 26 loss: 0.19991546869277954: 100%|█████████████████████████████████████████| 1563/1563 [00:32<00:00, 48.57it/s]\n",
      "epoch: 27 loss: 0.15870334208011627: 100%|█████████████████████████████████████████| 1563/1563 [00:32<00:00, 48.52it/s]\n",
      "epoch: 28 loss: 0.08424632996320724: 100%|█████████████████████████████████████████| 1563/1563 [00:32<00:00, 48.57it/s]\n",
      "epoch: 29 loss: 0.032442301511764526: 100%|████████████████████████████████████████| 1563/1563 [00:32<00:00, 47.66it/s]\n",
      "epoch: 30 loss: 0.01835220493376255: 100%|█████████████████████████████████████████| 1563/1563 [00:32<00:00, 48.49it/s]\n"
     ]
    }
   ],
   "source": [
    "for epoch in range(30):\n",
    "    iterator = tqdm.tqdm(train_loader)\n",
    "    for data, label in iterator:\n",
    "        optim.zero_grad()\n",
    "\n",
    "        preds = model(data.to(device))\n",
    "\n",
    "        loss = nn.CrossEntropyLoss()(preds, label.to(device))\n",
    "        loss.backward()\n",
    "        optim.step()\n",
    "\n",
    "        iterator.set_description(f\"epoch: {epoch + 1} loss: {loss.item()}\")"
   ]
  },
  {
   "cell_type": "code",
   "execution_count": 12,
   "id": "8505a7aa-6e7e-4655-be14-d82a0d5ba019",
   "metadata": {},
   "outputs": [],
   "source": [
    "torch.save(model.state_dict(), \"ResNet.pth\")"
   ]
  },
  {
   "cell_type": "code",
   "execution_count": 13,
   "id": "10825f18-24d8-418f-bead-50b22d5cf3b8",
   "metadata": {},
   "outputs": [
    {
     "data": {
      "text/plain": [
       "<All keys matched successfully>"
      ]
     },
     "execution_count": 13,
     "metadata": {},
     "output_type": "execute_result"
    }
   ],
   "source": [
    "model.load_state_dict(torch.load(\"ResNet.pth\", weights_only=True, map_location=device))"
   ]
  },
  {
   "cell_type": "code",
   "execution_count": 14,
   "id": "65485829-4ed4-45f6-9086-1118e25df869",
   "metadata": {},
   "outputs": [
    {
     "name": "stdout",
     "output_type": "stream",
     "text": [
      "Accuracy: 0.8833\n"
     ]
    }
   ],
   "source": [
    "num_corr = 0\n",
    "\n",
    "with torch.no_grad():\n",
    "    for data, label in test_loader:\n",
    "        output = model(data.to(device))\n",
    "        preds = output.data.max(1)[1]\n",
    "        corr = preds.eq(label.to(device).data).sum().item()\n",
    "        num_corr += corr\n",
    "\n",
    "    print(f\"Accuracy: {num_corr / len(test_data)}\")"
   ]
  }
 ],
 "metadata": {
  "kernelspec": {
   "display_name": "Python 3 (ipykernel)",
   "language": "python",
   "name": "python3"
  },
  "language_info": {
   "codemirror_mode": {
    "name": "ipython",
    "version": 3
   },
   "file_extension": ".py",
   "mimetype": "text/x-python",
   "name": "python",
   "nbconvert_exporter": "python",
   "pygments_lexer": "ipython3",
   "version": "3.9.21"
  }
 },
 "nbformat": 4,
 "nbformat_minor": 5
}
